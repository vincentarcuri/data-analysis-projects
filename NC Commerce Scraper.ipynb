{
 "cells": [
  {
   "cell_type": "code",
   "execution_count": 1,
   "id": "31b76980-7ba4-471d-ae87-5d63096dbd22",
   "metadata": {
    "tags": []
   },
   "outputs": [],
   "source": [
    "from selenium import webdriver\n",
    "from selenium.webdriver.common.by import By\n",
    "from selenium.webdriver.common.keys import Keys\n",
    "from selenium.webdriver.support.select import Select\n",
    "from selenium.webdriver.support.ui import Select\n",
    "from selenium.webdriver.common.alert import Alert\n",
    "from selenium.webdriver.common.action_chains import ActionChains\n",
    "from selenium.webdriver.support.ui import WebDriverWait\n",
    "from selenium.webdriver.support import expected_conditions as EC\n",
    "import time"
   ]
  },
  {
   "cell_type": "code",
   "execution_count": 2,
   "id": "612a6211-ace8-41f0-8b43-c4c6cbbd7db6",
   "metadata": {},
   "outputs": [],
   "source": [
    "counties = [\n",
    " '37001',\n",
    " '37019',\n",
    " '37021',\n",
    " '37025',\n",
    " '37035',\n",
    " '37057',\n",
    " '37071',\n",
    " '37085',\n",
    " '37097',\n",
    " '37101',\n",
    " '37129',\n",
    " '37133',\n",
    " '37135',\n",
    " '37147',\n",
    " '37151',\n",
    " '37155',\n",
    " '37159',\n",
    " '37179',\n",
    " '37191']"
   ]
  },
  {
   "cell_type": "code",
   "execution_count": 3,
   "id": "eff2d831-82e0-4a81-8d5d-4caba6070f63",
   "metadata": {},
   "outputs": [],
   "source": [
    "driver = webdriver.Chrome('chromedriver')\n",
    "for i, county in enumerate(counties):\n",
    "    if i > 0:\n",
    "        driver.find_element(By.XPATH,'//body').send_keys(Keys.COMMAND + 't')\n",
    "        time.sleep(3)\n",
    "    driver.get('https://accessnc.nccommerce.com/business/business_custom_search_infogroup.html')\n",
    "    advanced_search = driver.find_element(By.PARTIAL_LINK_TEXT,'Advanced').click()\n",
    "    time.sleep(.8)\n",
    "    find_region = WebDriverWait(driver, 15).until(\n",
    "        EC.visibility_of_element_located((By.ID, 'regionCategory')))\n",
    "    region = Select(driver.find_element(By.ID, 'regionCategory')).select_by_value('County')\n",
    "    time.sleep(.8)\n",
    "    county = Select(driver.find_element(By.ID, 'region')).select_by_value(county)\n",
    "    industry = Select(driver.find_element(By.NAME, 'IndustryGroup2')).select_by_value('4451')\n",
    "    driver.execute_script('window.scrollTo(0, document.body.scrollHeight);')\n",
    "    time.sleep(1)\n",
    "    company = driver.find_element(By.XPATH, \"(//input[@name='CompanyName'])[2]\")\n",
    "    time.sleep(2)\n",
    "    company.send_keys('convenience')\n",
    "    company.submit()\n",
    "    submit = driver.find_element(By.NAME, 'submit')"
   ]
  },
  {
   "cell_type": "code",
   "execution_count": null,
   "id": "a7e5f6eb-e189-4399-9f02-ff339138c742",
   "metadata": {},
   "outputs": [],
   "source": []
  }
 ],
 "metadata": {
  "kernelspec": {
   "display_name": "Python 3",
   "language": "python",
   "name": "python3"
  },
  "language_info": {
   "codemirror_mode": {
    "name": "ipython",
    "version": 3
   },
   "file_extension": ".py",
   "mimetype": "text/x-python",
   "name": "python",
   "nbconvert_exporter": "python",
   "pygments_lexer": "ipython3",
   "version": "3.8.8"
  }
 },
 "nbformat": 4,
 "nbformat_minor": 5
}
