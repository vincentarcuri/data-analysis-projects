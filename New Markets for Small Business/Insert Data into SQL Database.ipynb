{
 "cells": [
  {
   "cell_type": "markdown",
   "id": "6a2c074a-0f3a-48ca-823a-4a3f4324182c",
   "metadata": {},
   "source": [
    "# Insert Data into SQL Database"
   ]
  },
  {
   "cell_type": "code",
   "execution_count": 1,
   "id": "6e95f988-96d9-4532-adba-ef68fe946dc0",
   "metadata": {},
   "outputs": [],
   "source": [
    "import pymysql\n",
    "import csv\n",
    "import config"
   ]
  },
  {
   "cell_type": "code",
   "execution_count": 2,
   "id": "909bdb15-452d-4e8d-8170-9c734e9a55b4",
   "metadata": {},
   "outputs": [],
   "source": [
    "est = csv.reader(open('sml_lrg.csv'))\n",
    "exp = csv.reader(open('exp.csv'))\n",
    "inc = csv.reader(open('income_population.csv'))"
   ]
  },
  {
   "cell_type": "code",
   "execution_count": 3,
   "id": "3f365f5e-5323-45ac-8911-530c201f90e8",
   "metadata": {},
   "outputs": [],
   "source": [
    "sql_est = '''\n",
    "INSERT INTO establishments (geofips, naics, small, large) VALUES\n",
    "(%s, %s, %s, %s)\n",
    "'''\n",
    "\n",
    "sql_exp = '''\n",
    "INSERT INTO expenditures (state_fips, state, description,\n",
    "percent_change) VALUES (%s, %s, %s, %s)\n",
    "'''\n",
    "\n",
    "sql_inc = '''\n",
    "INSERT INTO income_population (geofips, county, state, population,\n",
    "per_capita) VALUES (%s, %s, %s, %s, %s)\n",
    "'''"
   ]
  },
  {
   "cell_type": "code",
   "execution_count": 4,
   "id": "aa46eff0-58af-4a60-9fd9-2f7424c1dd52",
   "metadata": {},
   "outputs": [],
   "source": [
    "conn = pymysql.connect(\n",
    "    host='127.0.0.1',\n",
    "    unix_socket='/tmp/mysql.sock',\n",
    "    user='root',\n",
    "    passwd=config.password,\n",
    "    db='mysql',\n",
    "    charset='utf8'    \n",
    ")\n",
    "cur = conn.cursor()\n",
    "cur.execute('USE markets')\n",
    "next(est)\n",
    "for line in est:\n",
    "    line = [c for c in line]\n",
    "    cur.execute(sql_est, line)\n",
    "next(exp)\n",
    "for line in exp:\n",
    "    line = [c for c in line]\n",
    "    cur.execute(sql_exp, line)\n",
    "next(inc)\n",
    "for line in inc:\n",
    "    line = [c for c in line]\n",
    "    cur.execute(sql_inc, line)\n",
    "conn.commit()\n",
    "cur.close()\n",
    "conn.close()"
   ]
  },
  {
   "cell_type": "code",
   "execution_count": null,
   "id": "de5ffbfc-988d-487b-9104-f127f014bcb3",
   "metadata": {},
   "outputs": [],
   "source": []
  }
 ],
 "metadata": {
  "kernelspec": {
   "display_name": "Python 3",
   "language": "python",
   "name": "python3"
  },
  "language_info": {
   "codemirror_mode": {
    "name": "ipython",
    "version": 3
   },
   "file_extension": ".py",
   "mimetype": "text/x-python",
   "name": "python",
   "nbconvert_exporter": "python",
   "pygments_lexer": "ipython3",
   "version": "3.8.8"
  }
 },
 "nbformat": 4,
 "nbformat_minor": 5
}
