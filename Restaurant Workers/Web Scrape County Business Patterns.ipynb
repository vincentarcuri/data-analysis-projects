{
 "cells": [
  {
   "cell_type": "markdown",
   "id": "6e1e6691-dacf-41d0-b3ec-756f497c1284",
   "metadata": {},
   "source": [
    "# Retrieve files from census.gov"
   ]
  },
  {
   "cell_type": "code",
   "execution_count": 1,
   "id": "cc7451d5-d208-4614-96cc-2a14065a57c2",
   "metadata": {},
   "outputs": [],
   "source": [
    "import requests\n",
    "import zipfile\n",
    "from zipfile import BadZipFile\n",
    "from io import BytesIO\n",
    "import os\n",
    "import pandas as pd"
   ]
  },
  {
   "cell_type": "code",
   "execution_count": 2,
   "id": "e5125b4b-95c6-4d4e-bee8-5708e9440bc0",
   "metadata": {},
   "outputs": [],
   "source": [
    "# Create 4 character year and 2 character year\n",
    "yr4 = [y for y in range(1986, 2021)]\n",
    "yr2 = [(str(y)[2:]) for y in range(1986, 2021)]"
   ]
  },
  {
   "cell_type": "code",
   "execution_count": 3,
   "id": "d6eb668c-2b93-40de-be74-56573727949d",
   "metadata": {},
   "outputs": [
    {
     "name": "stdout",
     "output_type": "stream",
     "text": [
      "...getting file for 1986\n",
      "...getting file for 1987\n",
      "...getting file for 1988\n",
      "...getting file for 1989\n",
      "...getting file for 1990\n",
      "...getting file for 1991\n",
      "...getting file for 1992\n",
      "...getting file for 1993\n",
      "...getting file for 1994\n",
      "...getting file for 1995\n",
      "...getting file for 1996\n",
      "...getting file for 1997\n",
      "...getting file for 1998\n",
      "...getting file for 1999\n",
      "...getting file for 2000\n",
      "...getting file for 2001\n",
      "...getting file for 2002\n",
      "...getting file for 2003\n",
      "...getting file for 2004\n",
      "...getting file for 2005\n",
      "...getting file for 2006\n",
      "...getting file for 2007\n",
      "...getting file for 2008\n",
      "...getting file for 2009\n",
      "...getting file for 2010\n",
      "...getting file for 2011\n",
      "...getting file for 2012\n",
      "...getting file for 2013\n",
      "...getting file for 2014\n",
      "...getting file for 2015\n",
      "...getting file for 2016\n",
      "...getting file for 2017\n",
      "...getting file for 2018\n",
      "...getting file for 2019\n",
      "...getting file for 2020\n"
     ]
    }
   ],
   "source": [
    "for f, t in zip(yr4, yr2):\n",
    "    print(f'...getting file for {f}')\n",
    "    url = f'https://www2.census.gov/programs-surveys/cbp/datasets/{f}/cbp{t}st.zip'\n",
    "    req = requests.get(url)\n",
    "    try:\n",
    "        z = zipfile.ZipFile(BytesIO(req.content))\n",
    "        oldname = z.namelist()[0]\n",
    "        z.extractall()\n",
    "        os.rename(oldname, f'{f}.txt')\n",
    "    except BadZipFile:\n",
    "        print(f'Bad Zip File for {f}')"
   ]
  },
  {
   "cell_type": "markdown",
   "id": "8ce9cb81-6dd3-43f1-b8a5-ddc0e3cf8204",
   "metadata": {},
   "source": [
    "### Column Description\n",
    "**fipstate**: fipstate code<br>\n",
    "**sic**: 4-digit Standard Industrial Classification Code *1986-1997*<br>\n",
    "**naics**: North American Industry Classification System *1998-2020*<br>\n",
    "**emp**: Total Mid-March Employees<br>\n",
    "**qp1**: First quarter payroll (1000 dollars)<br>\n",
    "**ap**: Annual Payroll (1000 dollars)<br>\n",
    "**est**: Number of establishments<br>"
   ]
  },
  {
   "cell_type": "code",
   "execution_count": 4,
   "id": "724846f9-0651-4592-9fbe-e2664f5617d3",
   "metadata": {},
   "outputs": [
    {
     "name": "stderr",
     "output_type": "stream",
     "text": [
      "/opt/anaconda3/lib/python3.8/site-packages/IPython/core/interactiveshell.py:3165: DtypeWarning: Columns (42,47) have mixed types.Specify dtype option on import or set low_memory=False.\n",
      "  has_raised = await self.run_ast_nodes(code_ast.body, cell_name,\n",
      "/opt/anaconda3/lib/python3.8/site-packages/IPython/core/interactiveshell.py:3165: DtypeWarning: Columns (47) have mixed types.Specify dtype option on import or set low_memory=False.\n",
      "  has_raised = await self.run_ast_nodes(code_ast.body, cell_name,\n",
      "/opt/anaconda3/lib/python3.8/site-packages/IPython/core/interactiveshell.py:3165: DtypeWarning: Columns (37,47) have mixed types.Specify dtype option on import or set low_memory=False.\n",
      "  has_raised = await self.run_ast_nodes(code_ast.body, cell_name,\n"
     ]
    }
   ],
   "source": [
    "# Concat datasets together\n",
    "year = [y for y in range(1986, 2021)]\n",
    "full = pd.DataFrame()\n",
    "for y in year:\n",
    "    df = pd.read_csv(f'{y}.txt', dtype={'fipstate': str,\n",
    "                                       'FIPSTATE': str})\n",
    "    df['year'] = y\n",
    "    df.columns = df.columns.str.lower()\n",
    "    df = df.reindex(columns=['year', 'fipstate', 'sic', 'naics', 'emp', 'qp1', 'ap', 'est'])\n",
    "    full = pd.concat([full, df], ignore_index=True)"
   ]
  },
  {
   "cell_type": "code",
   "execution_count": 5,
   "id": "e1ce608e-77be-467c-a622-db65a2ddeadb",
   "metadata": {},
   "outputs": [
    {
     "data": {
      "text/html": [
       "<div>\n",
       "<style scoped>\n",
       "    .dataframe tbody tr th:only-of-type {\n",
       "        vertical-align: middle;\n",
       "    }\n",
       "\n",
       "    .dataframe tbody tr th {\n",
       "        vertical-align: top;\n",
       "    }\n",
       "\n",
       "    .dataframe thead th {\n",
       "        text-align: right;\n",
       "    }\n",
       "</style>\n",
       "<table border=\"1\" class=\"dataframe\">\n",
       "  <thead>\n",
       "    <tr style=\"text-align: right;\">\n",
       "      <th></th>\n",
       "      <th>year</th>\n",
       "      <th>stname</th>\n",
       "      <th>sic</th>\n",
       "      <th>naics</th>\n",
       "      <th>emp</th>\n",
       "      <th>qp1</th>\n",
       "      <th>ap</th>\n",
       "      <th>est</th>\n",
       "    </tr>\n",
       "  </thead>\n",
       "  <tbody>\n",
       "    <tr>\n",
       "      <th>0</th>\n",
       "      <td>1986</td>\n",
       "      <td>Alabama</td>\n",
       "      <td>----</td>\n",
       "      <td>NaN</td>\n",
       "      <td>1164166</td>\n",
       "      <td>4680884</td>\n",
       "      <td>19306212</td>\n",
       "      <td>81811</td>\n",
       "    </tr>\n",
       "    <tr>\n",
       "      <th>1</th>\n",
       "      <td>1986</td>\n",
       "      <td>Alabama</td>\n",
       "      <td>07--</td>\n",
       "      <td>NaN</td>\n",
       "      <td>5627</td>\n",
       "      <td>13687</td>\n",
       "      <td>59631</td>\n",
       "      <td>838</td>\n",
       "    </tr>\n",
       "    <tr>\n",
       "      <th>2</th>\n",
       "      <td>1986</td>\n",
       "      <td>Alabama</td>\n",
       "      <td>0700</td>\n",
       "      <td>NaN</td>\n",
       "      <td>4573</td>\n",
       "      <td>10473</td>\n",
       "      <td>47724</td>\n",
       "      <td>723</td>\n",
       "    </tr>\n",
       "    <tr>\n",
       "      <th>3</th>\n",
       "      <td>1986</td>\n",
       "      <td>Alabama</td>\n",
       "      <td>0710</td>\n",
       "      <td>NaN</td>\n",
       "      <td>0</td>\n",
       "      <td>0</td>\n",
       "      <td>0</td>\n",
       "      <td>10</td>\n",
       "    </tr>\n",
       "    <tr>\n",
       "      <th>4</th>\n",
       "      <td>1986</td>\n",
       "      <td>Alabama</td>\n",
       "      <td>0720</td>\n",
       "      <td>NaN</td>\n",
       "      <td>306</td>\n",
       "      <td>1176</td>\n",
       "      <td>4646</td>\n",
       "      <td>58</td>\n",
       "    </tr>\n",
       "  </tbody>\n",
       "</table>\n",
       "</div>"
      ],
      "text/plain": [
       "   year   stname   sic naics      emp      qp1        ap    est\n",
       "0  1986  Alabama  ----   NaN  1164166  4680884  19306212  81811\n",
       "1  1986  Alabama  07--   NaN     5627    13687     59631    838\n",
       "2  1986  Alabama  0700   NaN     4573    10473     47724    723\n",
       "3  1986  Alabama  0710   NaN        0        0         0     10\n",
       "4  1986  Alabama  0720   NaN      306     1176      4646     58"
      ]
     },
     "execution_count": 5,
     "metadata": {},
     "output_type": "execute_result"
    }
   ],
   "source": [
    "# Add state names to the dataset\n",
    "\n",
    "# Import state names\n",
    "state = pd.read_csv('us-state-ansi-fips.csv', dtype={' st': str})\n",
    "state.columns = state.columns.str.strip()\n",
    "state = state.rename(columns={'st': 'fipstate'})\n",
    "state = state[['stname', 'fipstate']]\n",
    "state['fipstate'] = state['fipstate'].str.strip()\n",
    "# Merge\n",
    "new = pd.merge(full, state, on='fipstate', how='left')\n",
    "new = new[['year', 'stname', 'sic', 'naics', 'emp', 'qp1', 'ap', 'est']]\n",
    "new.head()"
   ]
  },
  {
   "cell_type": "code",
   "execution_count": 6,
   "id": "bc5fb1f8-bf7a-41c8-969a-495ddbbb7f24",
   "metadata": {},
   "outputs": [],
   "source": [
    "# Export\n",
    "new.to_csv('CBP_full_dataset.csv', index=False)"
   ]
  },
  {
   "cell_type": "code",
   "execution_count": null,
   "id": "cb538899-4db6-4bd2-ba31-5aae1f301858",
   "metadata": {},
   "outputs": [],
   "source": []
  }
 ],
 "metadata": {
  "kernelspec": {
   "display_name": "Python 3",
   "language": "python",
   "name": "python3"
  },
  "language_info": {
   "codemirror_mode": {
    "name": "ipython",
    "version": 3
   },
   "file_extension": ".py",
   "mimetype": "text/x-python",
   "name": "python",
   "nbconvert_exporter": "python",
   "pygments_lexer": "ipython3",
   "version": "3.8.8"
  }
 },
 "nbformat": 4,
 "nbformat_minor": 5
}
