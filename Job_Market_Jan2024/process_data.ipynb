{
 "cells": [
  {
   "cell_type": "markdown",
   "id": "de15b608-8a66-4802-a438-5e5fdd936a86",
   "metadata": {},
   "source": [
    "# Process Data for Analysis"
   ]
  },
  {
   "cell_type": "code",
   "execution_count": 1,
   "id": "0535f94e-a6f4-4398-aa43-2cbd01fef034",
   "metadata": {
    "tags": []
   },
   "outputs": [],
   "source": [
    "import pandas as pd\n",
    "import warnings\n",
    "import datetime\n",
    "\n",
    "warnings.filterwarnings('ignore', category=UserWarning, module='openpyxl')\n",
    "warnings.filterwarnings(\"ignore\", category=UserWarning)"
   ]
  },
  {
   "cell_type": "markdown",
   "id": "569a09b8-739a-46dd-80ff-89071cc68881",
   "metadata": {},
   "source": [
    "## Job Openings, Total NonFarm"
   ]
  },
  {
   "cell_type": "code",
   "execution_count": 2,
   "id": "d42554ce-8a08-4cdf-83b6-899da816c288",
   "metadata": {
    "tags": []
   },
   "outputs": [],
   "source": [
    "openings_total_raw = pd.read_excel(\"data/job_nonfarm.xlsx\", \n",
    "                               skiprows=13, \n",
    "                               header=0,\n",
    "                              )"
   ]
  },
  {
   "cell_type": "code",
   "execution_count": 3,
   "id": "73f4c75b-1b72-4096-87f6-687dcfbc9bbb",
   "metadata": {
    "tags": []
   },
   "outputs": [],
   "source": [
    "openings_total_melt = pd.melt(openings_total_raw, id_vars=\"Year\", var_name=\"Month\")"
   ]
  },
  {
   "cell_type": "code",
   "execution_count": 4,
   "id": "c990e15d-0dc5-436e-88a3-b05ba84a2a6b",
   "metadata": {
    "tags": []
   },
   "outputs": [],
   "source": [
    "openings_total_melt['date'] = openings_total_melt[\"Month\"] \\\n",
    "                              + \"-\" \\\n",
    "                              + openings_total_melt[\"Year\"].astype(str)\n",
    "openings_total_melt['date'] = pd.to_datetime(openings_total_melt['date'])\n",
    "openings_total_melt = openings_total_melt[[\"date\", \"value\"]]"
   ]
  },
  {
   "cell_type": "code",
   "execution_count": 5,
   "id": "90195f83-a1c9-4760-8cb9-0541dc19c999",
   "metadata": {
    "tags": []
   },
   "outputs": [],
   "source": [
    "openings_total_final = openings_total_melt.sort_values(\"date\").iloc[:131]\n",
    "openings_total_final['value'] = openings_total_final['value'].astype(int)\n",
    "openings_total_final = openings_total_final.reset_index(drop=True)"
   ]
  },
  {
   "cell_type": "code",
   "execution_count": 6,
   "id": "016f4203-a068-4ba4-a3bb-c257f1c55ccc",
   "metadata": {
    "tags": []
   },
   "outputs": [],
   "source": [
    "openings_total_final.to_csv(\"processed/job_openings_total.csv\",\n",
    "                            index=False\n",
    ")"
   ]
  },
  {
   "cell_type": "markdown",
   "id": "38c18249-1289-44d2-a7e9-079bde328fb8",
   "metadata": {},
   "source": [
    "## Job Openings, Professional & Business Services"
   ]
  },
  {
   "cell_type": "code",
   "execution_count": 7,
   "id": "870e1ab9-33db-4d49-9c96-3a344f940068",
   "metadata": {
    "tags": []
   },
   "outputs": [],
   "source": [
    "prof_total_raw = pd.read_excel(\"data/job_prof_bus.xlsx\",\n",
    "                               skiprows=13,\n",
    "                               header=0\n",
    "                              )"
   ]
  },
  {
   "cell_type": "code",
   "execution_count": 8,
   "id": "1102d950-3fdd-4d3e-90b3-4261f77b83c8",
   "metadata": {},
   "outputs": [],
   "source": [
    "prof_melt = pd.melt(prof_total_raw, id_vars=\"Year\", var_name=\"Month\")\n",
    "prof_melt['date'] = pd.to_datetime(\n",
    "    prof_melt[\"Month\"]\n",
    "    + \"-\"\n",
    "    + prof_melt[\"Year\"].astype(str)\n",
    ")\n",
    "prof_melt = prof_melt[[\"date\", \"value\"]]"
   ]
  },
  {
   "cell_type": "code",
   "execution_count": 9,
   "id": "2429f10e-dfa2-4f4a-a830-5280b9e809c4",
   "metadata": {
    "tags": []
   },
   "outputs": [],
   "source": [
    "prof_final = prof_melt.sort_values(\"date\").iloc[:131]\n",
    "prof_final['value'] = prof_final['value'].astype(int)\n",
    "prof_final = prof_final.reset_index(drop=True)"
   ]
  },
  {
   "cell_type": "code",
   "execution_count": 10,
   "id": "d2f5a766-b8bc-4bc0-8002-9492b67a80bc",
   "metadata": {
    "tags": []
   },
   "outputs": [],
   "source": [
    "prof_final.to_csv(\"processed/job_openings_prof.csv\",\n",
    "                  index=False\n",
    "                 )"
   ]
  },
  {
   "cell_type": "markdown",
   "id": "9dfd60c6-be9a-4125-b172-939a439a7104",
   "metadata": {},
   "source": [
    "## Job Gains, Total"
   ]
  },
  {
   "cell_type": "code",
   "execution_count": 11,
   "id": "d3445bce-16b9-4340-93a5-097edce458ba",
   "metadata": {
    "tags": []
   },
   "outputs": [],
   "source": [
    "total_gains_raw = pd.read_excel(\"data/total_job_gains.xlsx\",\n",
    "                                skiprows=15,\n",
    "                                header=0\n",
    "                               )"
   ]
  },
  {
   "cell_type": "code",
   "execution_count": 12,
   "id": "a0eb7808-9641-4af5-8733-b58840829c9e",
   "metadata": {
    "tags": []
   },
   "outputs": [],
   "source": [
    "total_gains_melt = pd.melt(total_gains_raw, id_vars=\"Year\", var_name=\"Qtr\")\n",
    "total_gains_melt['Qtr'] = total_gains_melt['Qtr'].str.replace(\"tr\", \"\")\n",
    "total_gains_melt['date'] = pd.to_datetime(\n",
    "    total_gains_melt[\"Year\"].astype(str)\n",
    "    + \"-\"\n",
    "    + total_gains_melt[\"Qtr\"],\n",
    ")\n",
    "# Change to end of Quarter\n",
    "total_gains_melt['date'] = total_gains_melt['date'] + pd.offsets.QuarterEnd(0)\n",
    "total_gains_melt = total_gains_melt[['date', 'value']]"
   ]
  },
  {
   "cell_type": "code",
   "execution_count": 13,
   "id": "f312a710-7b0f-4c46-aa1e-6fad35f5f9f6",
   "metadata": {
    "tags": []
   },
   "outputs": [],
   "source": [
    "total_gains_final = total_gains_melt.sort_values(\"date\").reset_index(drop=True)\n",
    "total_gains_final = total_gains_final.iloc[:41]\n",
    "total_gains_final['value'] = total_gains_final['value'].astype(int)"
   ]
  },
  {
   "cell_type": "code",
   "execution_count": 14,
   "id": "49ee4c40-dee2-4632-ab40-5a45822605f1",
   "metadata": {
    "tags": []
   },
   "outputs": [],
   "source": [
    "total_gains_final.to_csv(\"processed/gains_total.csv\",\n",
    "                         index=False)"
   ]
  },
  {
   "cell_type": "markdown",
   "id": "1409efd5-b89d-40f5-8f59-9fc9b14dba6e",
   "metadata": {},
   "source": [
    " ## Job Gains, Professional & Business"
   ]
  },
  {
   "cell_type": "code",
   "execution_count": 15,
   "id": "5547e55f-798c-47cd-8033-b62538d87a9a",
   "metadata": {
    "tags": []
   },
   "outputs": [],
   "source": [
    "prof_gains_raw = pd.read_excel(\"data/job_gains_prof_bus.xlsx\",\n",
    "                              skiprows=15,\n",
    "                              header=0\n",
    "                              )"
   ]
  },
  {
   "cell_type": "code",
   "execution_count": 16,
   "id": "5a85d8a1-c54a-42cf-b27a-28b6e18ec28c",
   "metadata": {
    "tags": []
   },
   "outputs": [],
   "source": [
    "prof_gains_melt = pd.melt(prof_gains_raw, id_vars=\"Year\", var_name=\"Qtr\")\n",
    "prof_gains_melt[\"Qtr\"] = prof_gains_melt[\"Qtr\"].str.replace(\"tr\", \"\")\n",
    "prof_gains_melt[\"date\"] = pd.to_datetime(\n",
    "    prof_gains_melt[\"Year\"].astype(str)\n",
    "    + \"-\"\n",
    "    + prof_gains_melt[\"Qtr\"]\n",
    ")\n",
    "# Change to end of Quarter\n",
    "prof_gains_melt[\"date\"] = prof_gains_melt[\"date\"] + pd.offsets.QuarterEnd(0)\n",
    "prof_gains_melt = prof_gains_melt[[\"date\", \"value\"]]"
   ]
  },
  {
   "cell_type": "code",
   "execution_count": 17,
   "id": "50d6969d-36c9-400a-a90b-c9e1f702540b",
   "metadata": {
    "tags": []
   },
   "outputs": [],
   "source": [
    "prof_gains_final = prof_gains_melt.sort_values(\"date\").reset_index(drop=True)\n",
    "prof_gains_final = prof_gains_final.iloc[:41]\n",
    "prof_gains_final[\"value\"] = prof_gains_final[\"value\"].astype(int)"
   ]
  },
  {
   "cell_type": "code",
   "execution_count": 18,
   "id": "b16d63a5-75fb-4f6a-9d3e-e5d40b05d864",
   "metadata": {
    "tags": []
   },
   "outputs": [],
   "source": [
    "prof_gains_final.to_csv(\"processed/gains_prof.csv\",\n",
    "                        index=False)"
   ]
  },
  {
   "cell_type": "markdown",
   "id": "dcb8d5ef-94e9-472c-a255-58e17fcc92cb",
   "metadata": {},
   "source": [
    "## Job Loss, Total\n",
    "## Job Loss, Professional & Business\n",
    "## Hires, Total\n",
    "## Hires, Professional & Business\n",
    "These follow the same format as Job Gains, Total & Job Gains, Professional & Business"
   ]
  },
  {
   "cell_type": "code",
   "execution_count": 19,
   "id": "1ae7dd2e-c60f-4c46-88f7-0d96dc0608a6",
   "metadata": {
    "tags": []
   },
   "outputs": [],
   "source": [
    "# In Path, Out Path, Rows to Skip\n",
    "loss_data_in_out = [\n",
    "    (\"data/total_job_loss.xlsx\", \"processed/loss_total.csv\", 15),\n",
    "    (\"data/job_loss_prof_bus.xlsx\", \"processed/loss_prof.csv\", 15),\n",
    "]"
   ]
  },
  {
   "cell_type": "code",
   "execution_count": 20,
   "id": "9fdba6cd-a9e8-4fd1-8ec3-4638c3c28f33",
   "metadata": {
    "tags": []
   },
   "outputs": [],
   "source": [
    "def loss_raw_to_processed(input_output: tuple[str, str, int]):\n",
    "    _in = input_output[0]\n",
    "    _out = input_output[1]\n",
    "    skip = input_output[2]\n",
    "    # Read in data\n",
    "    df_raw = pd.read_excel(_in, skiprows=skip, header=0)\n",
    "    \n",
    "    # Melt data for date formatting\n",
    "    df_melt = pd.melt(df_raw, id_vars=\"Year\", var_name=\"Qtr\")\n",
    "    df_melt[\"Qtr\"] = df_melt[\"Qtr\"].str.replace(\"tr\", \"\")\n",
    "    df_melt[\"date\"] = pd.to_datetime(\n",
    "        df_melt[\"Year\"].astype(str)\n",
    "        + \"-\"\n",
    "        + df_melt[\"Qtr\"]\n",
    "    )\n",
    "    df_melt[\"date\"] = df_melt[\"date\"] + pd.offsets.QuarterEnd(0)\n",
    "    df_melt = df_melt[[\"date\", \"value\"]]\n",
    "    \n",
    "    # Prepare final output with only valid values and sorted\n",
    "    df_final = df_melt.sort_values(\"date\").reset_index(drop=True)\n",
    "    df_final = df_final.dropna()\n",
    "    df_final[\"value\"] = df_final[\"value\"].astype(int)\n",
    "    \n",
    "    # Write\n",
    "    df_final.to_csv(_out, index=False)\n",
    "    "
   ]
  },
  {
   "cell_type": "code",
   "execution_count": 21,
   "id": "28e4d4ba-0482-407d-9534-f804b0a2a3a7",
   "metadata": {
    "tags": []
   },
   "outputs": [],
   "source": [
    "for data in loss_data_in_out:\n",
    "    loss_raw_to_processed(data)"
   ]
  },
  {
   "cell_type": "code",
   "execution_count": 22,
   "id": "899b01a0-e4f7-4d21-aea4-113921e89012",
   "metadata": {},
   "outputs": [],
   "source": [
    "# In Path, Out Path, Rows to Skip\n",
    "hires_data_in_out = [\n",
    "    (\"data/hires_total.xlsx\", \"processed/hires_total.csv\", 13),\n",
    "    (\"data/hires_prof_bus.xlsx\", \"processed/hires_prof_bus.csv\", 13),\n",
    "    (\"data/total_layoff.xlsx\", \"processed/layoff_total.csv\", 13),\n",
    "    (\"data/prof_layoff.xlsx\",  \"processed/layoff_prof.csv\", 13)\n",
    "]"
   ]
  },
  {
   "cell_type": "code",
   "execution_count": 23,
   "id": "e78c2d33-0414-447f-801e-32033855b885",
   "metadata": {},
   "outputs": [],
   "source": [
    "def hires_raw_to_processed(input_output: tuple[str, str, int]):\n",
    "    _in = input_output[0]\n",
    "    _out = input_output[1]\n",
    "    skip = input_output[2]\n",
    "    # Read in data\n",
    "    df_raw = pd.read_excel(_in, skiprows=skip, header=0)\n",
    "    \n",
    "    # Melt data for date formatting\n",
    "    df_melt = pd.melt(df_raw, id_vars=\"Year\", var_name=\"Month\")\n",
    "    df_melt[\"date\"] = pd.to_datetime(\n",
    "        df_melt[\"Month\"]\n",
    "        + \"-\"\n",
    "        + df_melt[\"Year\"].astype(str)\n",
    "    )\n",
    "    df_melt = df_melt[[\"date\", \"value\"]]\n",
    "    \n",
    "    # Prepare final output with only valid values and sorted\n",
    "    df_final = df_melt.sort_values(\"date\").reset_index(drop=True)\n",
    "    df_final = df_final.dropna()\n",
    "    df_final[\"value\"] = df_final[\"value\"].astype(int)\n",
    "    \n",
    "    # Write\n",
    "    df_final.to_csv(_out, index=False)"
   ]
  },
  {
   "cell_type": "code",
   "execution_count": 24,
   "id": "722902eb-22b5-41a0-9069-b49114b3de68",
   "metadata": {},
   "outputs": [],
   "source": [
    "for data in hires_data_in_out:\n",
    "    hires_raw_to_processed(data)"
   ]
  },
  {
   "cell_type": "markdown",
   "id": "a576d5e4-d9b7-4750-8272-b45081aa725f",
   "metadata": {},
   "source": [
    "## College Enrollemnt"
   ]
  },
  {
   "cell_type": "code",
   "execution_count": 25,
   "id": "2de0e71f-9add-4ff9-aa44-3ce27b706509",
   "metadata": {
    "tags": []
   },
   "outputs": [],
   "source": [
    "enroll_raw = pd.read_csv(\"data/enrollment.csv\")\n",
    "enroll_final = enroll_raw.rename(columns={\n",
    "    \"Fall\": \"date\",\n",
    "    \"Total\": \"total\",\n",
    "    \"Four or more years\": \"four\",\n",
    "    \"At least 2 but less than 4 years\": \"two_to_four\",\n",
    "    \"Less than 2 years (below associate)\": \"less_than_two\",      \n",
    "})\n",
    "enroll_final[\"date\"] = pd.to_datetime(enroll_final[\"date\"].astype(str)) \\\n",
    "                       + pd.offsets.MonthBegin(8)\n",
    "enroll_final = enroll_final.sort_values(\"date\")\n",
    "enroll_final.to_csv(\"processed/enrollment.csv\", index=False)"
   ]
  }
 ],
 "metadata": {
  "kernelspec": {
   "display_name": "Python 3 (ipykernel)",
   "language": "python",
   "name": "python3"
  },
  "language_info": {
   "codemirror_mode": {
    "name": "ipython",
    "version": 3
   },
   "file_extension": ".py",
   "mimetype": "text/x-python",
   "name": "python",
   "nbconvert_exporter": "python",
   "pygments_lexer": "ipython3",
   "version": "3.11.7"
  }
 },
 "nbformat": 4,
 "nbformat_minor": 5
}
